{
 "metadata": {
  "name": ""
 },
 "nbformat": 3,
 "nbformat_minor": 0,
 "worksheets": [
  {
   "cells": [
    {
     "cell_type": "markdown",
     "metadata": {},
     "source": [
      "Imagine someone gave you a vanilla cookie, and it either came from bowl 1 or bowl 2. They want to know the probability that it came from bowl 1. You can view this as a Bayes problem -> P(Bowl 1|Vanilla Cookie) = P(Vanilla Cookie|Bowl 1) * P(Bowl 1) / P(Vanilla Cookie)."
     ]
    },
    {
     "cell_type": "markdown",
     "metadata": {},
     "source": [
      "This can be generalized at P(Hypothesis|Data) = P(Data|Hypothesis) * P(Hypothesis) / P(Data)."
     ]
    },
    {
     "cell_type": "markdown",
     "metadata": {},
     "source": [
      "P(Data) = $\\sum$ P($Hypothesis_1$) * P(Data|$Hypothesis_1$)"
     ]
    },
    {
     "cell_type": "markdown",
     "metadata": {},
     "source": [
      "You will notice that this is just the numerator for each hypothesis. In the cookie example there are two hypotheses (Bow1 1 or Bowl 2)."
     ]
    },
    {
     "cell_type": "markdown",
     "metadata": {},
     "source": [
      "The P(Hypothesis) has a distribution - this is called the prior distribution. For the cookie problem the distribution is Bowl1 = 50%, Bowl2 = 50%."
     ]
    },
    {
     "cell_type": "markdown",
     "metadata": {},
     "source": [
      "The P(Data|Hypothesis) also has a distribution - this is called the likliehood. For the cookie problem it is Bowl1 = 75%, Bowl2 = 50%. Thus assuming the cookie came from Bowl 1 what is the probability it is vanilla (30/40)."
     ]
    },
    {
     "cell_type": "markdown",
     "metadata": {},
     "source": [
      "P(Data) is called the normalizing constant, in the cookie problem it is .5\\*.75 + .5\\*.25"
     ]
    },
    {
     "cell_type": "markdown",
     "metadata": {},
     "source": [
      "P(Hypothesis|Data) = Posterior distribution. In the cookie problem it is Bowl1 = 60%, Bowl2 = 30%"
     ]
    },
    {
     "cell_type": "code",
     "collapsed": false,
     "input": [
      "a = (.5*.75) / (.375+.25)\n",
      "print \"P(Bowl1|Vanilla Cookie) = {}\".format(a)"
     ],
     "language": "python",
     "metadata": {},
     "outputs": [
      {
       "output_type": "stream",
       "stream": "stdout",
       "text": [
        "P(Bowl1|Vanilla Cookie) = 0.6\n"
       ]
      }
     ],
     "prompt_number": 7
    },
    {
     "cell_type": "markdown",
     "metadata": {},
     "source": [
      "Lets Write some General Code to get the posterior probs"
     ]
    },
    {
     "cell_type": "code",
     "collapsed": false,
     "input": [
      "from thinkbayes import Pmf"
     ],
     "language": "python",
     "metadata": {},
     "outputs": [],
     "prompt_number": 8
    },
    {
     "cell_type": "code",
     "collapsed": false,
     "input": [
      "class Cookie(Pmf):\n",
      "    def __init__(self,hypos):\n",
      "        Pmf.__init__(self,hypos)\n",
      "        for hypo in hypos:\n",
      "            self.Set(hypo,1)\n",
      "        #Normailize just takes the value and divides by sum (converts to prob.) -> this function gives all hypos same prob\n",
      "        self.Normalize()\n",
      "    def Update(self,data):\n",
      "        #Loops over hypotheses\n",
      "        for hypo in self.Values():\n",
      "            #Pulls the likelihood of getting that data conditional on the hypothesis\n",
      "            like = self.Likelihood(data,hypo)\n",
      "            #Multiplies the Prior by the likelihood\n",
      "            self.Mult(hypo,like)\n",
      "        self.Normalize()\n",
      "    mixes = {\n",
      "             'Bowl 1':dict(vanilla=0.75, chocolate=0.25),\n",
      "             'Bowl 2':dict(vanilla=0.5, chocolate=0.5)\n",
      "            }\n",
      "    def Likelihood(self,data,hypo):\n",
      "        mix = self.mixes[hypo]\n",
      "        like = mix[data]\n",
      "        return like"
     ],
     "language": "python",
     "metadata": {},
     "outputs": [],
     "prompt_number": 9
    },
    {
     "cell_type": "code",
     "collapsed": false,
     "input": [
      "#Assign hypos with equal prob\n",
      "hypos = ['Bowl 1','Bowl 2']\n",
      "pmf = Cookie(hypos)\n",
      "print \"Original Bowl 1 Prior: {}\".format(pmf.d.get('Bowl 1',0))\n",
      "pmf.Update('vanilla')\n",
      "for hypo, prob in pmf.Items():\n",
      "    print hypo, prob\n",
      "print \"After Update Bowl 1 Prior: {}\".format(pmf.d.get('Bowl 1',0))\n",
      "print \"After update, Posterior becomes Prior if update again\"\n",
      "pmf.Update('vanilla')"
     ],
     "language": "python",
     "metadata": {},
     "outputs": [
      {
       "output_type": "stream",
       "stream": "stdout",
       "text": [
        "Original Bowl 1 Prior: 0.5\n",
        "Bowl 2 0.4\n",
        "Bowl 1 0.6\n",
        "After Update Bowl 1 Prior: 0.6\n",
        "After update, Posterior becomes Prior if update again\n"
       ]
      }
     ],
     "prompt_number": 10
    },
    {
     "cell_type": "heading",
     "level": 1,
     "metadata": {},
     "source": [
      "THE DICE PROBLEM"
     ]
    },
    {
     "cell_type": "code",
     "collapsed": false,
     "input": [
      "#SETUP Suite\n",
      "#suite basically does an init which sets the prior distribution of hypotheses as discrete uniform. Then you create the likelihood function, and \n",
      "#update goes through and for each hypothesis multiplies the prior by the likelihood (P(Data|Hypo)), and then normalizes (divides by P(Data))\n",
      "#which is just the sum of the multiplications\n",
      "\n",
      "from thinkbayes import Suite\n",
      "\n",
      "class Dice(Suite):\n",
      "    def Likelihood(self,data,hypo):\n",
      "        if hypo < data:\n",
      "            return 0\n",
      "        else:\n",
      "            return 1.0/hypo\n",
      "        \n",
      "suite = Dice([4,6,8,12,20])\n",
      "suite.Update(6)\n",
      "suite.Print()\n",
      "for roll in [6,8,7,7,5,4]:\n",
      "    suite.Update(roll)\n",
      "suite.Print()"
     ],
     "language": "python",
     "metadata": {},
     "outputs": [
      {
       "output_type": "stream",
       "stream": "stdout",
       "text": [
        "4 0.0\n",
        "6 0.392156862745\n",
        "8 0.294117647059\n",
        "12 0.196078431373\n",
        "20 0.117647058824\n",
        "4 0.0\n",
        "6 0.0\n",
        "8 0.943248453672\n",
        "12 0.0552061280613\n",
        "20 0.0015454182665\n"
       ]
      }
     ],
     "prompt_number": 17
    },
    {
     "cell_type": "heading",
     "level": 1,
     "metadata": {},
     "source": [
      "LOCOMOTIVE PROBLEM"
     ]
    },
    {
     "cell_type": "markdown",
     "metadata": {},
     "source": [
      "A railroad numbers its locomotives in order 1..N. One day you\n",
      "see a locomotive with the number 60. Estimate how many loco-\n",
      "motives the railroad has"
     ]
    },
    {
     "cell_type": "code",
     "collapsed": false,
     "input": [],
     "language": "python",
     "metadata": {},
     "outputs": []
    }
   ],
   "metadata": {}
  }
 ]
}