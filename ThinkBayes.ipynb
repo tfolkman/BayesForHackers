{
 "metadata": {
  "name": ""
 },
 "nbformat": 3,
 "nbformat_minor": 0,
 "worksheets": [
  {
   "cells": [
    {
     "cell_type": "markdown",
     "metadata": {},
     "source": [
      "Imagine someone gave you a vanilla cookie, and it either came from bowl 1 or bowl 2. They want to know the probability that it came from bowl 1. You can view this as a Bayes problem -> P(Bowl 1|Vanilla Cookie) = P(Vanilla Cookie|Bowl 1) * P(Bowl 1) / P(Vanilla Cookie)."
     ]
    },
    {
     "cell_type": "markdown",
     "metadata": {},
     "source": [
      "This can be generalized at P(Hypothesis|Data) = P(Data|Hypothesis) * P(Hypothesis) / P(Data)."
     ]
    },
    {
     "cell_type": "markdown",
     "metadata": {},
     "source": [
      "P(Data) = $\\sum$ P($Hypothesis_1$) * P(Data|$Hypothesis_1$)"
     ]
    },
    {
     "cell_type": "markdown",
     "metadata": {},
     "source": [
      "You will notice that this is just the numerator for each hypothesis. In the cookie example there are two hypotheses (Bow1 1 or Bowl 2)."
     ]
    },
    {
     "cell_type": "markdown",
     "metadata": {},
     "source": [
      "The P(Hypothesis) has a distribution - this is called the prior distribution. For the cookie problem the distribution is Bowl1 = 50%, Bowl2 = 50%."
     ]
    },
    {
     "cell_type": "markdown",
     "metadata": {},
     "source": [
      "The P(Data|Hypothesis) also has a distribution - this is called the likliehood. For the cookie problem it is Bowl1 = 75%, Bowl2 = 50%. Thus assuming the cookie came from Bowl 1 what is the probability it is vanilla (30/40)."
     ]
    },
    {
     "cell_type": "markdown",
     "metadata": {},
     "source": [
      "P(Data) is called the normalizing constant, in the cookie problem it is .5\\*.75 + .5\\*.25"
     ]
    },
    {
     "cell_type": "markdown",
     "metadata": {},
     "source": [
      "P(Hypothesis|Data) = Posterior distribution. In the cookie problem it is Bowl1 = 60%, Bowl2 = 30%"
     ]
    },
    {
     "cell_type": "code",
     "collapsed": false,
     "input": [
      "a = (.5*.75) / (.375+.25)\n",
      "print \"P(Bowl1|Vanilla Cookie) = {}\".format(a)"
     ],
     "language": "python",
     "metadata": {},
     "outputs": [
      {
       "output_type": "stream",
       "stream": "stdout",
       "text": [
        "P(Bowl1|Vanilla Cookie) = 0.6\n"
       ]
      }
     ],
     "prompt_number": 1
    },
    {
     "cell_type": "markdown",
     "metadata": {},
     "source": [
      "Lets Write some General Code to get the posterior probs"
     ]
    },
    {
     "cell_type": "code",
     "collapsed": false,
     "input": [
      "from thinkbayes import Pmf\n",
      "import thinkbayes as tb\n",
      "import matplotlib.pyplot as plt\n",
      "%matplotlib inline"
     ],
     "language": "python",
     "metadata": {},
     "outputs": [],
     "prompt_number": 53
    },
    {
     "cell_type": "code",
     "collapsed": false,
     "input": [
      "class Cookie(Pmf):\n",
      "    def __init__(self,hypos):\n",
      "        Pmf.__init__(self,hypos)\n",
      "        for hypo in hypos:\n",
      "            self.Set(hypo,1)\n",
      "        #Normailize just takes the value and divides by sum (converts to prob.) -> this function gives all hypos same prob\n",
      "        self.Normalize()\n",
      "    def Update(self,data):\n",
      "        #Loops over hypotheses\n",
      "        for hypo in self.Values():\n",
      "            #Pulls the likelihood of getting that data conditional on the hypothesis\n",
      "            like = self.Likelihood(data,hypo)\n",
      "            #Multiplies the Prior by the likelihood\n",
      "            self.Mult(hypo,like)\n",
      "        self.Normalize()\n",
      "    mixes = {\n",
      "             'Bowl 1':dict(vanilla=0.75, chocolate=0.25),\n",
      "             'Bowl 2':dict(vanilla=0.5, chocolate=0.5)\n",
      "            }\n",
      "    def Likelihood(self,data,hypo):\n",
      "        mix = self.mixes[hypo]\n",
      "        like = mix[data]\n",
      "        return like"
     ],
     "language": "python",
     "metadata": {},
     "outputs": [],
     "prompt_number": 3
    },
    {
     "cell_type": "code",
     "collapsed": false,
     "input": [
      "#Assign hypos with equal prob\n",
      "hypos = ['Bowl 1','Bowl 2']\n",
      "pmf = Cookie(hypos)\n",
      "print \"Original Bowl 1 Prior: {}\".format(pmf.d.get('Bowl 1',0))\n",
      "pmf.Update('vanilla')\n",
      "for hypo, prob in pmf.Items():\n",
      "    print hypo, prob\n",
      "print \"After Update Bowl 1 Prior: {}\".format(pmf.d.get('Bowl 1',0))\n",
      "print \"After update, Posterior becomes Prior if update again\"\n",
      "pmf.Update('vanilla')"
     ],
     "language": "python",
     "metadata": {},
     "outputs": [
      {
       "output_type": "stream",
       "stream": "stdout",
       "text": [
        "Original Bowl 1 Prior: 0.5\n",
        "Bowl 2 0.4\n",
        "Bowl 1 0.6\n",
        "After Update Bowl 1 Prior: 0.6\n",
        "After update, Posterior becomes Prior if update again\n"
       ]
      }
     ],
     "prompt_number": 4
    },
    {
     "cell_type": "heading",
     "level": 1,
     "metadata": {},
     "source": [
      "THE DICE PROBLEM"
     ]
    },
    {
     "cell_type": "code",
     "collapsed": false,
     "input": [
      "#SETUP Suite\n",
      "#suite basically does an init which sets the prior distribution of hypotheses as discrete uniform. Then you create the likelihood function, and \n",
      "#update goes through and for each hypothesis multiplies the prior by the likelihood (P(Data|Hypo)), and then normalizes (divides by P(Data))\n",
      "#which is just the sum of the multiplications\n",
      "\n",
      "from thinkbayes import Suite\n",
      "\n",
      "class Dice(Suite):\n",
      "    def Likelihood(self,data,hypo):\n",
      "        if hypo < data:\n",
      "            return 0\n",
      "        else:\n",
      "            return 1.0/hypo\n",
      "        \n",
      "suite = Dice([4,6,8,12,20])\n",
      "suite.Update(6)\n",
      "suite.Print()\n",
      "for roll in [6,8,7,7,5,4]:\n",
      "    suite.Update(roll)\n",
      "suite.Print()"
     ],
     "language": "python",
     "metadata": {},
     "outputs": [
      {
       "output_type": "stream",
       "stream": "stdout",
       "text": [
        "4 0.0\n",
        "6 0.392156862745\n",
        "8 0.294117647059\n",
        "12 0.196078431373\n",
        "20 0.117647058824\n",
        "4 0.0\n",
        "6 0.0\n",
        "8 0.943248453672\n",
        "12 0.0552061280613\n",
        "20 0.0015454182665\n"
       ]
      }
     ],
     "prompt_number": 17
    },
    {
     "cell_type": "heading",
     "level": 1,
     "metadata": {},
     "source": [
      "LOCOMOTIVE PROBLEM"
     ]
    },
    {
     "cell_type": "markdown",
     "metadata": {},
     "source": [
      "A railroad numbers its locomotives in order 1..N. One day you\n",
      "see a locomotive with the number 60. Estimate how many loco-\n",
      "motives the railroad has"
     ]
    },
    {
     "cell_type": "code",
     "collapsed": false,
     "input": [
      "#CREATE LIKELIHOOD FUNCTION\n",
      "\n",
      "class Train(Suite):\n",
      "    def Likelihood(self,data,hypo):\n",
      "        if hypo < data:\n",
      "            return 0\n",
      "        else:\n",
      "            return 1.0/hypo\n",
      "\n",
      "#Define set of hypos from 1 to 1000 trains\n",
      "hypos = xrange(1,1001)\n",
      "#Set priors - uniform\n",
      "suite = Train(hypos)\n",
      "#Update with data - saw 60 locos\n",
      "suite.Update(60)\n",
      "probs = [y for x,y in suite.Items()]\n",
      "#PLOT POSTERIOR DIST -> pick 60 if want to maximize chance of being correct\n",
      "plt.plot(hypos,probs)"
     ],
     "language": "python",
     "metadata": {},
     "outputs": [
      {
       "metadata": {},
       "output_type": "pyout",
       "prompt_number": 18,
       "text": [
        "[<matplotlib.lines.Line2D at 0x12b61e10>]"
       ]
      },
      {
       "metadata": {},
       "output_type": "display_data",
       "png": "[encoded data removed]",
       "text": [
        "<matplotlib.figure.Figure at 0x12b40780>"
       ]
      }
     ],
     "prompt_number": 18
    },
    {
     "cell_type": "code",
     "collapsed": false,
     "input": [
      "#Maybe the mean of the posterior is a better choice - this would minimize error\n",
      "print suite.Mean()"
     ],
     "language": "python",
     "metadata": {},
     "outputs": [
      {
       "output_type": "stream",
       "stream": "stdout",
       "text": [
        "333.419893264\n"
       ]
      }
     ],
     "prompt_number": 19
    },
    {
     "cell_type": "markdown",
     "metadata": {},
     "source": [
      "What about the prior? As we change the upper bounds of hypos we get very different means"
     ]
    },
    {
     "cell_type": "code",
     "collapsed": false,
     "input": [
      "def trainMax(hypos):\n",
      "    suite = Train(hypos)\n",
      "    suite.Update(60)\n",
      "    print suite.Mean()\n",
      "trainMax(xrange(1,501))\n",
      "trainMax(xrange(1,1001))\n",
      "trainMax(xrange(1,2001))"
     ],
     "language": "python",
     "metadata": {},
     "outputs": [
      {
       "output_type": "stream",
       "stream": "stdout",
       "text": [
        "207.079227983\n",
        "333.419893264\n",
        "552.179017165\n"
       ]
      }
     ],
     "prompt_number": 20
    },
    {
     "cell_type": "markdown",
     "metadata": {},
     "source": [
      "This is bad - we either need (1) more data or (2) more background info. With more data the means converge more:"
     ]
    },
    {
     "cell_type": "code",
     "collapsed": false,
     "input": [
      "def trainMax(hypos):\n",
      "    suite = Train(hypos)\n",
      "    for data in [60,30,90]:\n",
      "        suite.Update(data)\n",
      "    print suite.Mean()\n",
      "trainMax(xrange(1,501))\n",
      "trainMax(xrange(1,1001))\n",
      "trainMax(xrange(1,2001))"
     ],
     "language": "python",
     "metadata": {},
     "outputs": [
      {
       "output_type": "stream",
       "stream": "stdout",
       "text": [
        "151.849587959\n",
        "164.305586423\n",
        "171.338181092\n"
       ]
      }
     ],
     "prompt_number": 21
    },
    {
     "cell_type": "markdown",
     "metadata": {},
     "source": [
      "With an alternative prior (power law) we get more convergence"
     ]
    },
    {
     "cell_type": "code",
     "collapsed": false,
     "input": [
      "class Train(Dice):\n",
      "    def __init__(self,hypos,alpha=1.0):\n",
      "        Pmf.__init__(self)\n",
      "        for hypo in hypos:\n",
      "            self.Set(hypo,hypo**(-alpha))\n",
      "        self.Normalize()\n",
      "        \n",
      "hypos2 = range(1,1001)\n",
      "suite = Train(hypos2)\n",
      "suite.Update(60)\n",
      "probs2 = [y for x,y in suite.Items()]\n",
      "plt.plot(hypos,probs)\n",
      "plt.plot(hypos2,probs2)\n",
      "trainMax(xrange(1,501))\n",
      "trainMax(xrange(1,1001))\n",
      "trainMax(xrange(1,2001))"
     ],
     "language": "python",
     "metadata": {},
     "outputs": [
      {
       "output_type": "stream",
       "stream": "stdout",
       "text": [
        "130.708469863\n",
        "133.275231375\n",
        "133.997463081\n"
       ]
      },
      {
       "metadata": {},
       "output_type": "display_data",
       "png": "[encoded data removed]",
       "text": [
        "<matplotlib.figure.Figure at 0x125efe48>"
       ]
      }
     ],
     "prompt_number": 28
    },
    {
     "cell_type": "markdown",
     "metadata": {},
     "source": [
      "Can use CDF (shows the prob of getting a value less than or equal to) to get a range"
     ]
    },
    {
     "cell_type": "code",
     "collapsed": false,
     "input": [
      "hypos = range(1,1001)\n",
      "suite = Train(hypos)\n",
      "for data in [60,30,90]:\n",
      "    suite.Update(data)\n",
      "cdf = suite.MakeCdf()\n",
      "interval = cdf.Percentile(5), cdf.Percentile(95)\n",
      "#We have a fairly large CI\n",
      "print interval"
     ],
     "language": "python",
     "metadata": {},
     "outputs": [
      {
       "output_type": "stream",
       "stream": "stdout",
       "text": [
        "(91, 242)\n"
       ]
      }
     ],
     "prompt_number": 35
    },
    {
     "cell_type": "heading",
     "level": 1,
     "metadata": {},
     "source": [
      "THE EURO PROBLEM"
     ]
    },
    {
     "cell_type": "markdown",
     "metadata": {},
     "source": [
      "Let us define 101 hypotheses -> basically we are supposing that the prior probabaility of heads is anywhere from 0-100%"
     ]
    },
    {
     "cell_type": "code",
     "collapsed": false,
     "input": [
      "class Euro(Suite):\n",
      "    def Likelihood(self,data,hypo):\n",
      "        x = hypo\n",
      "        if data == 'H':\n",
      "            return x/100.0\n",
      "        else:\n",
      "            return 1 - x/100.0\n",
      "    \n",
      "suite = Euro(xrange(0,101))\n",
      "dataset = 'H' * 140 + 'T' * 110\n",
      "for data in dataset:\n",
      "    suite.Update(data)\n",
      "hypos = xrange(0,101)\n",
      "probs = [y for x,y in suite.Items()]\n",
      "plt.plot(hypos,probs)\n",
      "print 'Max Like: {}'.format(suite.MaximumLikelihood())\n",
      "print 'Mean: {}'.format(suite.Mean())\n",
      "print 'Median: {}'.format(tb.Percentile(suite,50))\n",
      "print '90 CI: {}'.format(tb.CredibleInterval(suite,90))"
     ],
     "language": "python",
     "metadata": {},
     "outputs": [
      {
       "output_type": "stream",
       "stream": "stdout",
       "text": [
        "Max Like: 56\n",
        "Mean: 55.9523809524\n",
        "Median: 56\n",
        "90 CI: (51, 61)\n"
       ]
      },
      {
       "metadata": {},
       "output_type": "display_data",
       "png": "[encoded data removed]",
       "text": [
        "<matplotlib.figure.Figure at 0x135fe860>"
       ]
      }
     ],
     "prompt_number": 60
    },
    {
     "cell_type": "markdown",
     "metadata": {},
     "source": [
      "We wanted to know whether the coin was fair based on the flips observed - looking at the value of the posterior distribution at 50 is almost meaningless because that value depends greatly on our priors. We can swap priors to see how the posterior changes. With enough data the posteriors with different priors converge."
     ]
    },
    {
     "cell_type": "heading",
     "level": 1,
     "metadata": {},
     "source": [
      "THE BETA DISTRIBUTION"
     ]
    },
    {
     "cell_type": "markdown",
     "metadata": {},
     "source": [
      "Defined on an interval from 0-1 inclusive, so it is a natural choice for describing proportions and probs. The beta distribution has two parameters alpha and beta (when both are 1 it is the uniform distribution). If you have a beta distribution as a prior with a binomial likelihood function, the beta distribution is a conjugate prior. This means that the posterior distibution will be a beta distibution with parameters of: alpha = alpha_prior + number of successes; beta = beta_prior + number of failures. This provides a quick way to solve euro problem:"
     ]
    },
    {
     "cell_type": "code",
     "collapsed": false,
     "input": [
      "#no parameters sets as uniform priors\n",
      "beta = tb.Beta()\n",
      "#Set number of heads and tails\n",
      "beta.Update((140,110))\n",
      "#Mean is the same as above\n",
      "print beta.Mean()"
     ],
     "language": "python",
     "metadata": {},
     "outputs": [
      {
       "output_type": "stream",
       "stream": "stdout",
       "text": [
        "0.559523809524\n"
       ]
      }
     ],
     "prompt_number": 61
    },
    {
     "cell_type": "heading",
     "level": 1,
     "metadata": {},
     "source": [
      "ODDS"
     ]
    },
    {
     "cell_type": "markdown",
     "metadata": {},
     "source": [
      "Odds in favor of an event: the ratio of the probablitiy it will occur to the probability that it will not. So if there is a 75% chance of winning the odds in favor are: 3:1."
     ]
    },
    {
     "cell_type": "markdown",
     "metadata": {},
     "source": [
      "Odds against just flips the ratio. If a horse has a 10% chance of winning, the odds against are 9:1."
     ]
    },
    {
     "cell_type": "code",
     "collapsed": false,
     "input": [
      "#Odds in favor: p = prob of success\n",
      "def Odds(p):\n",
      "    return p/(1-p)\n",
      "odds1 = Odds(.5)\n",
      "print odds1\n",
      "#To convert odds in favor to probability\n",
      "def Probability(o):\n",
      "    return o/(o+1)\n",
      "Probability(odds1)"
     ],
     "language": "python",
     "metadata": {},
     "outputs": [
      {
       "output_type": "stream",
       "stream": "stdout",
       "text": [
        "1.0\n"
       ]
      },
      {
       "metadata": {},
       "output_type": "pyout",
       "prompt_number": 74,
       "text": [
        "0.5"
       ]
      }
     ],
     "prompt_number": 74
    },
    {
     "cell_type": "markdown",
     "metadata": {},
     "source": [
      "We can write Baye's theorm in a probability form. Say we have two mutually exclusive and collectively exhaustive hypotheses A & B. We can write the ratio $$\\frac{p(A|D)}{p(B|D)} = \\frac{p(A)p(D|A)}{p(B)p(D|B)}$$"
     ]
    },
    {
     "cell_type": "markdown",
     "metadata": {},
     "source": [
      "Thus, we can convert this to the odds form - the odds in favor of A given D: $$o(A|D) = o(A)\\frac{p(D|A)}{p(D|B)}$$ Where o(A) is the odds in favor of A (prior). If written as:\n",
      "$$\\frac{o(A|D)}{o(A)} = \\frac{p(D|A)}{p(D|B)}$$ We get the ratio of posterior and prior odds on the left, and the likelihood ratio on the right. If the likelihood ratio > 1 then the data were more likely under hypo A."
     ]
    },
    {
     "cell_type": "heading",
     "level": 1,
     "metadata": {},
     "source": [
      "ADDITION"
     ]
    },
    {
     "cell_type": "markdown",
     "metadata": {},
     "source": [
      "Imagine have 3 6-sided dice, and want to know the distribution of the sum of rolling these 3 dices. Could either (1) Simulate three random rolls and add them, and do this many times or (2) Enumerate all possible pairs of values. Looking at (1)"
     ]
    },
    {
     "cell_type": "code",
     "collapsed": false,
     "input": [
      "#Set up class which SETS each side with equal prob\n",
      "class Die(Pmf):\n",
      "    def __init__(self,sides):\n",
      "        Pmf.__init__(self)\n",
      "        for x in xrange(1,sides+1):\n",
      "            self.Set(x,1)\n",
      "        self.Normalize()\n",
      "        \n",
      "#CREATE 3 DIE\n",
      "d6 = Die(6)\n",
      "dice = [d6] * 3\n",
      "\n",
      "#GET SAMPLE SUM\n",
      "three = tb.SampleSum(dice,1000)\n",
      "x1 = [x for (x,y) in three.Items()]\n",
      "y1 = [y for (x,y) in three.Items()]\n",
      "\n",
      "plt.plot(x1,y1)\n",
      "\n",
      "#Exact Enumeration\n",
      "exact_three = d6 + d6 + d6\n",
      "x2 = [x for (x,y) in exact_three.Items()]\n",
      "y2 = [y for (x,y) in exact_three.Items()]\n",
      "plt.plot(x2,y2)"
     ],
     "language": "python",
     "metadata": {},
     "outputs": [
      {
       "metadata": {},
       "output_type": "pyout",
       "prompt_number": 106,
       "text": [
        "[<matplotlib.lines.Line2D at 0x13717358>]"
       ]
      },
      {
       "metadata": {},
       "output_type": "display_data",
       "png": "[encoded data removed]",
       "text": [
        "<matplotlib.figure.Figure at 0x136da0b8>"
       ]
      }
     ],
     "prompt_number": 106
    },
    {
     "cell_type": "code",
     "collapsed": false,
     "input": [],
     "language": "python",
     "metadata": {},
     "outputs": [],
     "prompt_number": 105
    },
    {
     "cell_type": "code",
     "collapsed": false,
     "input": [],
     "language": "python",
     "metadata": {},
     "outputs": []
    }
   ],
   "metadata": {}
  }
 ]
}