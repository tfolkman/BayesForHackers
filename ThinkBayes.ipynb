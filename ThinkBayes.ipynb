{
 "metadata": {
  "name": ""
 },
 "nbformat": 3,
 "nbformat_minor": 0,
 "worksheets": [
  {
   "cells": [
    {
     "cell_type": "markdown",
     "metadata": {},
     "source": [
      "Imagine someone gave you a vanilla cookie, and it either came from bowl 1 or bowl 2. They want to know the probability that it came from bowl 1. You can view this as a Bayes problem -> P(Bowl 1|Vanilla Cookie) = P(Vanilla Cookie|Bowl 1) * P(Bowl 1) / P(Vanilla Cookie)."
     ]
    },
    {
     "cell_type": "markdown",
     "metadata": {},
     "source": [
      "This can be generalized at P(Hypothesis|Data) = P(Data|Hypothesis) * P(Hypothesis) / P(Data)."
     ]
    },
    {
     "cell_type": "markdown",
     "metadata": {},
     "source": [
      "P(Data) = $\\sum$ P($Hypothesis_1$) * P(Data|$Hypothesis_1$)"
     ]
    },
    {
     "cell_type": "markdown",
     "metadata": {},
     "source": [
      "You will notice that this is just the numerator for each hypothesis. In the cookie example there are two hypotheses (Bow1 1 or Bowl 2)."
     ]
    },
    {
     "cell_type": "markdown",
     "metadata": {},
     "source": [
      "The P(Hypothesis) has a distribution - this is called the prior distribution. For the cookie problem the distribution is Bowl1 = 50%, Bowl2 = 50%."
     ]
    },
    {
     "cell_type": "markdown",
     "metadata": {},
     "source": [
      "The P(Data|Hypothesis) also has a distribution - this is called the likliehood. For the cookie problem it is Bowl1 = 75%, Bowl2 = 50%. Thus assuming the cookie came from Bowl 1 what is the probability it is vanilla (30/40)."
     ]
    },
    {
     "cell_type": "markdown",
     "metadata": {},
     "source": [
      "P(Data) is called the normalizing constant, in the cookie problem it is .5\\*.75 + .5\\*.25"
     ]
    },
    {
     "cell_type": "markdown",
     "metadata": {},
     "source": [
      "P(Hypothesis|Data) = Posterior distribution. In the cookie problem it is Bowl1 = 60%, Bowl2 = 30%"
     ]
    },
    {
     "cell_type": "code",
     "collapsed": false,
     "input": [
      "a = (.5*.75) / (.375+.25)\n",
      "print \"P(Bowl1|Vanilla Cookie) = {}\".format(a)"
     ],
     "language": "python",
     "metadata": {},
     "outputs": [
      {
       "output_type": "stream",
       "stream": "stdout",
       "text": [
        "P(Bowl1|Vanilla Cookie) = 0.6\n"
       ]
      }
     ],
     "prompt_number": 1
    },
    {
     "cell_type": "markdown",
     "metadata": {},
     "source": [
      "Lets Write some General Code to get the posterior probs"
     ]
    },
    {
     "cell_type": "code",
     "collapsed": false,
     "input": [
      "from thinkbayes import Pmf"
     ],
     "language": "python",
     "metadata": {},
     "outputs": [],
     "prompt_number": 3
    },
    {
     "cell_type": "code",
     "collapsed": false,
     "input": [
      "class Cookie(Pmf):\n",
      "    def __init__(self,hypos):\n",
      "        Pmf.__init__(self,hypos)\n",
      "        for hypo in hypos:\n",
      "            self.Set(hypo,1)\n",
      "        #Normailize just takes the value and divides by sum (converts to prob.) -> this function gives all hypos same prob\n",
      "        self.Normalize()\n",
      "    def Update(self,data):\n",
      "        #Loops over hypotheses\n",
      "        for hypo in self.Values():\n",
      "            #Pulls the likelihood of getting that data conditional on the hypothesis\n",
      "            like = self.Likelihood(data,hypo)\n",
      "            #Multiplies the Proior by the likelihood\n",
      "            self.Mult(hypo,like)\n",
      "        self.Normalize()\n",
      "    mixes = {\n",
      "             'Bowl 1':dict(vanilla=0.75, chocolate=0.25),\n",
      "             'Bowl 2':dict(vanilla=0.5, chocolate=0.5)\n",
      "            }\n",
      "    def Likelihood(self,data,hypo):\n",
      "        mix = self.mixes[hypo]\n",
      "        like = mix[data]\n",
      "        return like"
     ],
     "language": "python",
     "metadata": {},
     "outputs": [],
     "prompt_number": 14
    },
    {
     "cell_type": "code",
     "collapsed": false,
     "input": [
      "#Assign hypos with equal prob\n",
      "hypos = ['Bowl 1','Bowl 2']\n",
      "pmf = Cookie(hypos)\n",
      "print \"Original Bowl 1 Prior: {}\".format(pmf.d.get('Bowl 1',0))\n",
      "pmf.Update('vanilla')\n",
      "print \"After update, Prior becomes Posterior if update again\""
     ],
     "language": "python",
     "metadata": {},
     "outputs": [
      {
       "output_type": "stream",
       "stream": "stdout",
       "text": [
        "Original Bowl 1 Prior: 0.5\n",
        "After update, Prior becomes Posterior if update again\n"
       ]
      }
     ],
     "prompt_number": 28
    },
    {
     "cell_type": "code",
     "collapsed": false,
     "input": [
      "for hypo, prob in pmf.Items():\n",
      "    print hypo, prob"
     ],
     "language": "python",
     "metadata": {},
     "outputs": [
      {
       "output_type": "stream",
       "stream": "stdout",
       "text": [
        "Bowl 2 0.0807061790668\n",
        "Bowl 1 0.919293820933\n"
       ]
      }
     ],
     "prompt_number": 21
    },
    {
     "cell_type": "code",
     "collapsed": false,
     "input": [],
     "language": "python",
     "metadata": {},
     "outputs": [],
     "prompt_number": 23
    },
    {
     "cell_type": "code",
     "collapsed": false,
     "input": [],
     "language": "python",
     "metadata": {},
     "outputs": []
    }
   ],
   "metadata": {}
  }
 ]
}